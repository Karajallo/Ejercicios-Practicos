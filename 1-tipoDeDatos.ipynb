{
 "cells": [
  {
   "cell_type": "markdown",
   "metadata": {},
   "source": [
    "## Tipo de Datos Basicos"
   ]
  },
  {
   "cell_type": "markdown",
   "metadata": {},
   "source": [
    "1- Escribir un programa que pregunte al usuario por el número de horas\n",
    "trabajadas y el coste por hora. Después debe mostrar por la pantalla la\n",
    "paga total que le corresponde al usuario."
   ]
  },
  {
   "cell_type": "code",
   "execution_count": 4,
   "metadata": {},
   "outputs": [
    {
     "name": "stdout",
     "output_type": "stream",
     "text": [
      "Pago total: 80\n"
     ]
    }
   ],
   "source": [
    "horasTrabajadas=int(input(\"Horas de trabajo: \"))\n",
    "costeHora=int(input(\"Coste por hora: \"))\n",
    "print (f'Pago total: {horasTrabajadas*costeHora}')\n"
   ]
  },
  {
   "cell_type": "markdown",
   "metadata": {},
   "source": [
    "2- Escribir un programa que realice la siguiente operación aritmética:\n",
    "(𝟑 + 𝟐) / 𝟐 ∗ 𝟓"
   ]
  },
  {
   "cell_type": "code",
   "execution_count": 5,
   "metadata": {},
   "outputs": [
    {
     "name": "stdout",
     "output_type": "stream",
     "text": [
      "0.5\n"
     ]
    }
   ],
   "source": [
    "print ((3+2)/(2*5))"
   ]
  },
  {
   "cell_type": "markdown",
   "metadata": {},
   "source": [
    "3- Escribir un programa que realice la siguiente operación aritmética:\n",
    "√(𝟑. 𝟗 + 𝟓. 𝟓 ∗ 𝟐. 𝟏)𝟓"
   ]
  },
  {
   "cell_type": "code",
   "execution_count": 15,
   "metadata": {},
   "outputs": [
    {
     "name": "stdout",
     "output_type": "stream",
     "text": [
      "980.5655592353253\n"
     ]
    }
   ],
   "source": [
    "##import math\n",
    "\n",
    "print(math.sqrt((3.9+5.5*2.15)**5))"
   ]
  },
  {
   "cell_type": "markdown",
   "metadata": {},
   "source": [
    "4- Escribir un programa que pida al usuario dos números enteros y muestre\n",
    "por pantalla el siguiente mensaje: “n entre m da un cociente c y un resto r”, donde\n",
    "n y m son los números introducidos por el usuario, y c y r son el cociente y el resto de la división entera respectivamente"
   ]
  },
  {
   "cell_type": "code",
   "execution_count": 17,
   "metadata": {},
   "outputs": [
    {
     "name": "stdout",
     "output_type": "stream",
     "text": [
      "8 entre 2 da un conciente de 4 y un resto de 0\n"
     ]
    }
   ],
   "source": [
    "numero1=int(input(\"indroducir primer numero: \"))\n",
    "numero2=int(input(\"indroducir segundo numero: \"))\n",
    "\n",
    "print (f\"{numero1} entre {numero2} da un conciente de {numero1 // numero2} y un resto de {numero1%numero2}\"\n"
   ]
  },
  {
   "cell_type": "markdown",
   "metadata": {},
   "source": [
    "5- Escriba un programa que, dadas las longitudes de los catetos de un\n",
    "triángulo rectángulo, calcule la longitud de su hipotenusa. a^{2}=b^{2}+c^{2} El Teorema de Pitágoras."
   ]
  },
  {
   "cell_type": "code",
   "execution_count": 23,
   "metadata": {},
   "outputs": [
    {
     "name": "stdout",
     "output_type": "stream",
     "text": [
      "9.433981132056603\n"
     ]
    }
   ],
   "source": [
    "cateto1=5\n",
    "cateto2=8\n",
    "longitud= (cateto1**2)+(cateto2**2)\n",
    "#hip=longitud **2\n",
    "hip=math.sqrt(longitud)\n",
    "print (hip)\n"
   ]
  },
  {
   "cell_type": "markdown",
   "metadata": {},
   "source": [
    "6- Escriba un programa que lea un número de cuatro dígitos y muestre en\n",
    "pantalla el número escrito en reverso. Por ejemplo, si el número leído es\n",
    "5432, la salida debería ser 2345."
   ]
  },
  {
   "cell_type": "code",
   "execution_count": 35,
   "metadata": {},
   "outputs": [
    {
     "name": "stdout",
     "output_type": "stream",
     "text": [
      "4321\n"
     ]
    }
   ],
   "source": [
    "num=input(\" Ingrese un numero de 4 digitos \")\n",
    "print (num[::-1])"
   ]
  },
  {
   "cell_type": "markdown",
   "metadata": {},
   "source": [
    "8- Una juguetería tiene mucho éxito en dos de sus productos: payasos y\n",
    "muñecas. Suele hacer venta por correo y la empresa de logística les cobra\n",
    "por peso de cada paquete así que deben calcular el peso de los payasos y\n",
    "muñecas que saldrán en cada paquete a demanda. Cada payaso tiene un\n",
    "peso de 112 g y cada muñeca 75 g. Escribe un programa que lea el número\n",
    "de payasos y muñecas vendidos en el último pedido y calcule el peso total\n",
    "del paquete que será enviado."
   ]
  },
  {
   "cell_type": "code",
   "execution_count": null,
   "metadata": {},
   "outputs": [],
   "source": [
    "cantPayosa=int(input(\"Cantidad de Payados vendidos: \"))\n",
    "cantMuneca=int(input(\"Cantidad de Muñecas vendidas: \"))\n",
    "print ((cantPayaso*112) + (cantMuneca*75))"
   ]
  },
  {
   "cell_type": "markdown",
   "metadata": {},
   "source": [
    "9- Escriba un programa que dados la distancia recorrida por un objeto y el\n",
    "tiempo que tomó el objeto en recorrer esa distancia, calcule su velocidad."
   ]
  },
  {
   "cell_type": "code",
   "execution_count": 36,
   "metadata": {},
   "outputs": [
    {
     "name": "stdout",
     "output_type": "stream",
     "text": [
      "La velocidad es de 2.0\n"
     ]
    }
   ],
   "source": [
    "distancia=10\n",
    "tiempo=5\n",
    "print(f'La velocidad es de {distancia/tiempo}')"
   ]
  },
  {
   "cell_type": "markdown",
   "metadata": {},
   "source": [
    "10 - Escriba un programa que reciba como entrada los coeficientes A, B y C de\n",
    "una ecuación de segundo grado, e imprima por pantalla los valores de x.\n",
    "Asuma que la ecuación siempre tiene solución en número reales. Recuerde\n",
    "que la solución de una ecuación de segundo viene dada por:\n",
    "𝒙 =\n",
    "−𝒃 ± √𝒃𝟐 − 𝟒𝒂𝒄\n",
    "𝟐𝒂"
   ]
  },
  {
   "cell_type": "code",
   "execution_count": 38,
   "metadata": {},
   "outputs": [
    {
     "name": "stdout",
     "output_type": "stream",
     "text": [
      "-116\n"
     ]
    }
   ],
   "source": [
    "A=int(input(\"Coeficiente A: \"))\n",
    "B=int(input(\"Coeficiente B: \"))\n",
    "C=int(input(\"Coeficiente C: \"))\n",
    " \n",
    "print ((B**2)-(4*A*C))"
   ]
  }
 ],
 "metadata": {
  "interpreter": {
   "hash": "d4026d7a36d874e1f6c487603191095e1ef70b08516b0a096b0ced5fbd321bb0"
  },
  "kernelspec": {
   "display_name": "Python 3.10.4 64-bit",
   "language": "python",
   "name": "python3"
  },
  "language_info": {
   "codemirror_mode": {
    "name": "ipython",
    "version": 3
   },
   "file_extension": ".py",
   "mimetype": "text/x-python",
   "name": "python",
   "nbconvert_exporter": "python",
   "pygments_lexer": "ipython3",
   "version": "3.10.4"
  },
  "orig_nbformat": 4
 },
 "nbformat": 4,
 "nbformat_minor": 2
}
